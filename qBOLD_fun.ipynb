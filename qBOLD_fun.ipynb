{
 "cells": [
  {
   "cell_type": "code",
   "execution_count": 104,
   "id": "864beeeb",
   "metadata": {},
   "outputs": [],
   "source": [
    "import numpy as np\n",
    "import pandas as pd\n",
    "import warnings\n",
    "import math"
   ]
  },
  {
   "cell_type": "code",
   "execution_count": 146,
   "id": "ac739168",
   "metadata": {},
   "outputs": [],
   "source": [
    "def to1D(listOf3DArray, listOfName, listOfCond):\n",
    "    \n",
    "    if not (len(listOf3DArray) == len(listOfName) == len(listOfCond)):\n",
    "        raise Exception(\"lists of array, name, condition have different dimensions\")\n",
    "    \n",
    "    output = pd.DataFrame()\n",
    "    \n",
    "    arr0 = listOf3DArray[0]\n",
    "    x = arr0.shape[0]; y = arr0.shape[1]; z = arr0.shape[2]\n",
    "    dimension = (x,y,z)\n",
    "    \n",
    "    for i in range(len(listOfName)):\n",
    "        name = listOfName[i]\n",
    "        arr = listOf3DArray[i]\n",
    "        cond = listOfCond[i]\n",
    "        \n",
    "        # check the dimension of the input array\n",
    "        if arr.shape[0] != x:\n",
    "            raise Exception(str(i+1)+\"th array has wrong x dimension\")\n",
    "        if arr.shape[1] != y:\n",
    "            raise Exception(str(i+1)+\"th array has wrong y dimension\")\n",
    "        if arr.shape[2] != z:\n",
    "            raise Exception(str(i+1)+\"th array has wrong z dimension\")            \n",
    "        # check the name of the input name\n",
    "        if name not in [\"CBF\",\"OEF\",\"R2p\",\"BOLD\",\"CMRO2\",\"lobe\", \"nw\", \"CBV\"]:\n",
    "            warnings.warn(name + \" is not in the default name list \\n\"+\n",
    "                          \"Default names are : CBF, OEF, R2p, BOLD, CMRO2, lobe, nw, CBV\")\n",
    "        \n",
    "        output[name+cond] = arr.flatten()\n",
    "    \n",
    "    output.dropna(inplace = True)\n",
    "    \n",
    "    numEntity = x*y*z\n",
    "    indexMap = np.arange(numEntity).reshape(x,y,z)\n",
    "    \n",
    "    return output, dimension, indexMap"
   ]
  },
  {
   "cell_type": "code",
   "execution_count": 147,
   "id": "2b919f0c",
   "metadata": {},
   "outputs": [],
   "source": [
    "def AverageFileReadandFilter(fileName, cond, IDs = None, thres = 0, rename = True):\n",
    "    df = pd.read_csv(fileName, index_col=0)\n",
    "    if IDs:\n",
    "        df = df.loc[df['ID'].isin(IDs)]\n",
    "    if thres:\n",
    "        df = df.loc[df['vox_count'] >= thres]\n",
    "    df = df.loc[(df['cond'].isin(cond)) | (df['cond'] == cond[0]+cond[1])]\n",
    "    df[\"par_cond\"] = df[\"par\"]+df[\"cond\"]\n",
    "    df = df.pivot_table(index=[\"ID\",\"parcel\",\"nw\",\"lobe\"], columns=[\"par_cond\"],values=\"median\")\n",
    "    df.dropna(inplace = True, subset=['BOLD'+cond[0]+cond[1]])\n",
    "    if rename:\n",
    "        df.rename({'xCBF_3_BRmsk_CSF'+cond[0]: 'CBF'+cond[0],\n",
    "                    'xCBF_3_BRmsk_CSF'+cond[1]: 'CBF'+cond[1],\n",
    "                    'sR2strich'+cond[0]: 'R2p'+cond[0],\n",
    "                    'sR2strich'+cond[1]: 'R2p'+cond[1],\n",
    "                    'rOEF'+cond[0]: 'OEF'+cond[0],\n",
    "                    'rOEF'+cond[1]: 'OEF'+cond[1]}, axis=1, inplace=True)\n",
    "    df.reset_index(inplace=True)\n",
    "    return df"
   ]
  },
  {
   "cell_type": "code",
   "execution_count": 106,
   "id": "d16e82a6",
   "metadata": {},
   "outputs": [],
   "source": [
    "def to3D(df, listOfColumnName, dimension):\n",
    "    DictOfOutput = {}\n",
    "    for col in listOfColumnName:\n",
    "        DictOfOutput[col] = np.array(df[col]).reshape(dimension)\n",
    "    return DictOfOutput"
   ]
  },
  {
   "cell_type": "code",
   "execution_count": 107,
   "id": "41421854",
   "metadata": {},
   "outputs": [],
   "source": [
    "def getRange(listOf3DCoord, indexMap):\n",
    "    listOf1DCoord = []\n",
    "    for coord in listOf3DCoord:\n",
    "        listOf1DCoord.append(indexMap[coord[0]][coord[1]][coord[2]])\n",
    "    return listOf1DCoord"
   ]
  },
  {
   "cell_type": "code",
   "execution_count": 108,
   "id": "0f26ad77",
   "metadata": {},
   "outputs": [],
   "source": [
    "def getRegion(df, listOfRegion, regionType):\n",
    "    return list(df.loc[df[regionType].isin(listOfRegion)].index)"
   ]
  },
  {
   "cell_type": "code",
   "execution_count": 109,
   "id": "1e3d0c56",
   "metadata": {},
   "outputs": [],
   "source": [
    "def getColName(func):\n",
    "    colNameMap = {M:(\"M\",[1]),\n",
    "                 N:(\"N\",[0,1]),\n",
    "                 A:(\"a\",[0]),\n",
    "                 FickCMRO2:(\"FCMRO2\",[0]),\n",
    "                 FickCMRO2Ctrl:(\"FCMRO2\",[1]),\n",
    "                 FickCMRO2RelChange: (\"rcFCMRO2\",[0,1]),\n",
    "                 DavisCMRO2RelChange: (\"rcDCMRO2\",[0,1]),\n",
    "                 DavisCBFRelChange: (\"rcDCBF\",[0,1]),\n",
    "                 DavisBOLD: (\"DBOLD\",[0,1]),\n",
    "                 FujitaR2pRelChange: (\"rcFR2P\",[0,1]),\n",
    "                 FujitaCMRO2RelChange: (\"rcFCMRO2\",[0,1])}\n",
    "    return colNameMap[func]"
   ]
  },
  {
   "cell_type": "code",
   "execution_count": 110,
   "id": "9e841e85",
   "metadata": {},
   "outputs": [],
   "source": [
    "def preparation(cond, TE):\n",
    "    global condG; global TEG; global aG; global bG; global MG\n",
    "    condG = cond\n",
    "    TEG = TE\n",
    "    aG = bG = MG = None"
   ]
  },
  {
   "cell_type": "code",
   "execution_count": 111,
   "id": "8c835f22",
   "metadata": {},
   "outputs": [],
   "source": [
    "def applyFuncToDf(func, df, applyRange = [], \n",
    "                  TE = None, a = None, b = None, m = None,\n",
    "                 colName = None):\n",
    "    if not colName:\n",
    "        funName, condList = getColName(func)\n",
    "        colName = funName\n",
    "        for i in condList:\n",
    "            colName += condG[i]\n",
    "    global TEG; global aG; global bG; global MG\n",
    "    if TE:\n",
    "        TEG = TE\n",
    "        print(\"TE is changed\")\n",
    "    aG = a; bG = b; MG = m\n",
    "    if a:\n",
    "        colName += \"_a\"+str(a)\n",
    "    if b:\n",
    "        colName += \"_b\"+str(b)\n",
    "    if m:\n",
    "        colName += \"_M\"+str(M)\n",
    "    if not applyRange:\n",
    "        df[colName] = df.apply(func,axis=1)\n",
    "    else:\n",
    "        df.at[applyRange, colName] = (df.loc[set(applyRange)]).apply(func,axis=1)\n",
    "    aG = bG = MG = None"
   ]
  },
  {
   "cell_type": "code",
   "execution_count": 141,
   "id": "fe37959c",
   "metadata": {},
   "outputs": [],
   "source": [
    "def M(row):\n",
    "    if not TEG:\n",
    "        raise Exception(\"Trying to calculate M but TE is not specified, please add argument TE = ?\")\n",
    "    return row[\"R2p\"+condG[1]]*TEG/10"
   ]
  },
  {
   "cell_type": "code",
   "execution_count": 113,
   "id": "43f5e4ce",
   "metadata": {},
   "outputs": [],
   "source": [
    "def N(row):\n",
    "    dCBF = row[\"CBF\"+condG[0]] - row[\"CBF\"+condG[1]]\n",
    "    dCMRO2 = row[\"CMRO2\"+condG[0]] - row[\"CMRO2\"+condG[1]]\n",
    "    return dCBF/dCMRO2"
   ]
  },
  {
   "cell_type": "code",
   "execution_count": 114,
   "id": "cd12a2fc",
   "metadata": {},
   "outputs": [],
   "source": [
    "def A(row):\n",
    "    return math.log(row[\"CBV\"+condG[0]]/0.8)/math.log(row[\"CBF\"+condG[0]])"
   ]
  },
  {
   "cell_type": "code",
   "execution_count": 115,
   "id": "e10e07d4",
   "metadata": {},
   "outputs": [],
   "source": [
    "def FickCMRO2(row):\n",
    "    return row[\"CaO2\"+condG[0]]*row[\"OEF\"+condG[0]]*row[\"CBF\"+condG[0]]"
   ]
  },
  {
   "cell_type": "code",
   "execution_count": 116,
   "id": "725c7f19",
   "metadata": {},
   "outputs": [],
   "source": [
    "def FickCMRO2Ctrl(row):\n",
    "    return row[\"CaO2\"+condG[1]]*row[\"OEF\"+condG[1]]*row[\"CBF\"+condG[1]]"
   ]
  },
  {
   "cell_type": "code",
   "execution_count": 117,
   "id": "47723f13",
   "metadata": {},
   "outputs": [],
   "source": [
    "def FickCMRO2RelChange(row):\n",
    "    return row[\"OEF\"+condG[0]]*row[\"CBF\"+condG[0]]/(row[\"OEF\"+condG[1]]*row[\"CBF\"+condG[1]])-1"
   ]
  },
  {
   "cell_type": "code",
   "execution_count": 145,
   "id": "44bbb19c",
   "metadata": {},
   "outputs": [],
   "source": [
    "def DavisCheck(row):\n",
    "    a = aG; b = bG; m = MG\n",
    "    if (not a) and (\"a\"+condG[0] not in row.index):\n",
    "        warnings.warn(str(\"alpha is not specified and a\"+condG[0] + \" is not in the dataframe\\n\"+\n",
    "                      \"Calculating alpha based on CBF and CBV now\"))\n",
    "        a = A(row)\n",
    "    elif not a:\n",
    "        a = row[\"a\"+condG[0]]\n",
    "    if (not b):\n",
    "        raise Exception(\"beta is not specified\")\n",
    "    if (not m) and (\"M\"+condG[1] not in row.index):\n",
    "        warnings.warn(str(\"M is not specified and M\"+condG[1] + \" is not in the dataframe\\n\"+\n",
    "                      \"Calculating M based on R2p and TE now\"))\n",
    "        m = M(row)\n",
    "    elif not m:\n",
    "        m = row[\"M\"+condG[1]]\n",
    "    return a, b, m"
   ]
  },
  {
   "cell_type": "code",
   "execution_count": 120,
   "id": "3519611e",
   "metadata": {},
   "outputs": [],
   "source": [
    "def DavisCMRO2RelChange(row):\n",
    "    a, b, m = DavisCheck(row)\n",
    "    product = 1 - row[\"BOLD\"+condG[0]+condG[1]]/m\n",
    "    rCMRO2 = (product/((row[\"CBF\"+condG[0]]/row[\"CBF\"+condG[1]])**(a-b)))**(1/b)\n",
    "    return rCMRO2-1    "
   ]
  },
  {
   "cell_type": "code",
   "execution_count": 121,
   "id": "4775eb32",
   "metadata": {},
   "outputs": [],
   "source": [
    "def DavisBOLD(row):\n",
    "    a, b, m = DavisCheck(row)\n",
    "    return m*(1-(row[\"CBF\"+condG[0]]/row[\"CBF\"+condG[1]])**(a-b)*(row[\"CMRO2\"+condG[0]]/row[\"CMRO2\"+condG[1]])**b)-1"
   ]
  },
  {
   "cell_type": "code",
   "execution_count": 122,
   "id": "dfca04a7",
   "metadata": {},
   "outputs": [],
   "source": [
    "def DavisCBFRelChange(row):\n",
    "    a, b, m = DavisCheck(row)\n",
    "    product = 1 - row[\"BOLD\"+condG[0]+condG[1]]/m\n",
    "    rCBF = (product/((row[\"CMRO2\"+condG[0]]/row[\"CMRO2\"+condG[1]])**(b)))**(1/(a-b))\n",
    "    return rCBF-1    "
   ]
  },
  {
   "cell_type": "code",
   "execution_count": 148,
   "id": "8fcf6387",
   "metadata": {},
   "outputs": [],
   "source": [
    "def FujitaR2pRelChange(row):\n",
    "    return -row[\"BOLD\"+condG[0]+condG[1]]/TEG/row[\"R2p\"+condG[1]]"
   ]
  },
  {
   "cell_type": "code",
   "execution_count": 149,
   "id": "39a9ceb2",
   "metadata": {},
   "outputs": [],
   "source": [
    "def FujitaCMRO2RelChange(row):\n",
    "    ratioCBF = row[\"CBF\"+condG[0]]/row[\"CBF\"+condG[1]]\n",
    "    ratioR2p = FujitaR2pRelChange(row)+1\n",
    "    ratioCBV = row[\"CBV\"+condG[0]]/row[\"CBV\"+condG[1]]\n",
    "    return ratioCBF*ratioR2p*ratioCBV-1"
   ]
  },
  {
   "cell_type": "code",
   "execution_count": null,
   "id": "9a8efafc",
   "metadata": {},
   "outputs": [],
   "source": [
    "def rc(var):\n",
    "    return lambda row: (row[var+condG[0]] - row[var+condG[1]])/row[var+condG[1]]"
   ]
  }
 ],
 "metadata": {
  "kernelspec": {
   "display_name": "Python 3",
   "language": "python",
   "name": "python3"
  },
  "language_info": {
   "codemirror_mode": {
    "name": "ipython",
    "version": 3
   },
   "file_extension": ".py",
   "mimetype": "text/x-python",
   "name": "python",
   "nbconvert_exporter": "python",
   "pygments_lexer": "ipython3",
   "version": "3.8.8"
  }
 },
 "nbformat": 4,
 "nbformat_minor": 5
}
